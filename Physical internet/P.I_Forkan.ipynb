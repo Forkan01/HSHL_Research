{
 "cells": [
  {
   "cell_type": "markdown",
   "id": "14aeb4f5",
   "metadata": {},
   "source": [
    "# Getting the latitude & longitude"
   ]
  },
  {
   "cell_type": "code",
   "execution_count": 16,
   "id": "e94839d1",
   "metadata": {},
   "outputs": [],
   "source": [
    "from geopy.geocoders import Nominatim"
   ]
  },
  {
   "cell_type": "code",
   "execution_count": 22,
   "id": "b7fe0083",
   "metadata": {},
   "outputs": [],
   "source": [
    "geolocator = Nominatim(user_agent=\"my_geocoder\")\n",
    "location1 = geolocator.geocode(\"Bahnhofstr. (Hauptbahnhof), 59555 Lippstadt\")\n",
    "location2 = geolocator.geocode(\"Dr.-Arnold-Hueck-Straße 3, 59557 Lippstadt\")"
   ]
  },
  {
   "cell_type": "code",
   "execution_count": 23,
   "id": "7023fe3c",
   "metadata": {},
   "outputs": [
    {
     "name": "stdout",
     "output_type": "stream",
     "text": [
      "Latitude: 51.6708806\n",
      "Longitude: 8.3487947\n"
     ]
    }
   ],
   "source": [
    "print(\"Latitude:\", location1.latitude)\n",
    "print(\"Longitude:\", location1.longitude)"
   ]
  },
  {
   "cell_type": "code",
   "execution_count": 24,
   "id": "9f8f5b0a",
   "metadata": {},
   "outputs": [
    {
     "name": "stdout",
     "output_type": "stream",
     "text": [
      "Latitude: 51.67384885\n",
      "Longitude: 8.364541368286515\n"
     ]
    }
   ],
   "source": [
    "print(\"Latitude:\", location2.latitude)\n",
    "print(\"Longitude:\", location2.longitude)"
   ]
  },
  {
   "cell_type": "markdown",
   "id": "44387260",
   "metadata": {},
   "source": [
    "# Travel time & Distance between the locations"
   ]
  },
  {
   "cell_type": "code",
   "execution_count": 87,
   "id": "2a4363ef",
   "metadata": {},
   "outputs": [
    {
     "name": "stdout",
     "output_type": "stream",
     "text": [
      "200.2\n",
      "1401.1\n"
     ]
    }
   ],
   "source": [
    "import requests\n",
    "\n",
    "url = \"https://api.openrouteservice.org/v2/directions/driving-car\"\n",
    "params = {\n",
    "    \"api_key\": \"5b3ce3597851110001cf6248f15a51c93d7940b3a89085ac795757b1\",  # Get a free API key from OpenRouteService\n",
    "    \"start\": \"8.3487947,51.6708806\",  # Point A coordinates\n",
    "    \"end\": \"8.364541368286515,51.67384885\",  # Point B coordinates\n",
    "}\n",
    "\n",
    "response = requests.get(url, params=params)\n",
    "data = response.json()\n",
    "\n",
    "Duration = data['features'][0]['properties']['summary']['duration']\n",
    "Distance = data['features'][0]['properties']['summary']['distance']\n",
    "print(duration) #travel time\n",
    "print(distance) #distance in meters"
   ]
  },
  {
   "cell_type": "markdown",
   "id": "1d92d2f8",
   "metadata": {},
   "source": [
    "# Visualize"
   ]
  },
  {
   "cell_type": "code",
   "execution_count": 70,
   "id": "585f9c7d",
   "metadata": {},
   "outputs": [],
   "source": [
    "import polyline\n",
    "import folium\n",
    "from IPython.display import display"
   ]
  },
  {
   "cell_type": "code",
   "execution_count": 88,
   "id": "06f1b253",
   "metadata": {},
   "outputs": [],
   "source": [
    "# Get and decode route geometry\n",
    "geometry = data['features'][0]['geometry']['coordinates']\n",
    "route_geometry = [(coord[1], coord[0]) for coord in geometry]  # Reverse coordinates for Folium"
   ]
  },
  {
   "cell_type": "code",
   "execution_count": 89,
   "id": "a680750e",
   "metadata": {},
   "outputs": [],
   "source": [
    "# Create the map centered on the route\n",
    "map_center = [(location1.latitude + location2.latitude) / 2,\n",
    "              (location1.longitude + location2.longitude) / 2]\n",
    "my_map = folium.Map(location=map_center, zoom_start=14)"
   ]
  },
  {
   "cell_type": "code",
   "execution_count": 91,
   "id": "2d33585f",
   "metadata": {},
   "outputs": [
    {
     "name": "stdout",
     "output_type": "stream",
     "text": [
      "Distance: 1401.1 meters\n",
      "Duration: 200.2 seconds\n"
     ]
    },
    {
     "data": {
      "text/html": [
       "<div style=\"width:100%;\"><div style=\"position:relative;width:100%;height:0;padding-bottom:60%;\"><span style=\"color:#565656\">Make this Notebook Trusted to load map: File -> Trust Notebook</span><iframe srcdoc=\"&lt;!DOCTYPE html&gt;\n",
       "&lt;html&gt;\n",
       "&lt;head&gt;\n",
       "    \n",
       "    &lt;meta http-equiv=&quot;content-type&quot; content=&quot;text/html; charset=UTF-8&quot; /&gt;\n",
       "    \n",
       "        &lt;script&gt;\n",
       "            L_NO_TOUCH = false;\n",
       "            L_DISABLE_3D = false;\n",
       "        &lt;/script&gt;\n",
       "    \n",
       "    &lt;style&gt;html, body {width: 100%;height: 100%;margin: 0;padding: 0;}&lt;/style&gt;\n",
       "    &lt;style&gt;#map {position:absolute;top:0;bottom:0;right:0;left:0;}&lt;/style&gt;\n",
       "    &lt;script src=&quot;https://cdn.jsdelivr.net/npm/leaflet@1.9.3/dist/leaflet.js&quot;&gt;&lt;/script&gt;\n",
       "    &lt;script src=&quot;https://code.jquery.com/jquery-3.7.1.min.js&quot;&gt;&lt;/script&gt;\n",
       "    &lt;script src=&quot;https://cdn.jsdelivr.net/npm/bootstrap@5.2.2/dist/js/bootstrap.bundle.min.js&quot;&gt;&lt;/script&gt;\n",
       "    &lt;script src=&quot;https://cdnjs.cloudflare.com/ajax/libs/Leaflet.awesome-markers/2.0.2/leaflet.awesome-markers.js&quot;&gt;&lt;/script&gt;\n",
       "    &lt;link rel=&quot;stylesheet&quot; href=&quot;https://cdn.jsdelivr.net/npm/leaflet@1.9.3/dist/leaflet.css&quot;/&gt;\n",
       "    &lt;link rel=&quot;stylesheet&quot; href=&quot;https://cdn.jsdelivr.net/npm/bootstrap@5.2.2/dist/css/bootstrap.min.css&quot;/&gt;\n",
       "    &lt;link rel=&quot;stylesheet&quot; href=&quot;https://netdna.bootstrapcdn.com/bootstrap/3.0.0/css/bootstrap.min.css&quot;/&gt;\n",
       "    &lt;link rel=&quot;stylesheet&quot; href=&quot;https://cdn.jsdelivr.net/npm/@fortawesome/fontawesome-free@6.2.0/css/all.min.css&quot;/&gt;\n",
       "    &lt;link rel=&quot;stylesheet&quot; href=&quot;https://cdnjs.cloudflare.com/ajax/libs/Leaflet.awesome-markers/2.0.2/leaflet.awesome-markers.css&quot;/&gt;\n",
       "    &lt;link rel=&quot;stylesheet&quot; href=&quot;https://cdn.jsdelivr.net/gh/python-visualization/folium/folium/templates/leaflet.awesome.rotate.min.css&quot;/&gt;\n",
       "    \n",
       "            &lt;meta name=&quot;viewport&quot; content=&quot;width=device-width,\n",
       "                initial-scale=1.0, maximum-scale=1.0, user-scalable=no&quot; /&gt;\n",
       "            &lt;style&gt;\n",
       "                #map_b746e012a32c6d0ada40fd0939d22c20 {\n",
       "                    position: relative;\n",
       "                    width: 100.0%;\n",
       "                    height: 100.0%;\n",
       "                    left: 0.0%;\n",
       "                    top: 0.0%;\n",
       "                }\n",
       "                .leaflet-container { font-size: 1rem; }\n",
       "            &lt;/style&gt;\n",
       "        \n",
       "&lt;/head&gt;\n",
       "&lt;body&gt;\n",
       "    \n",
       "    \n",
       "            &lt;div class=&quot;folium-map&quot; id=&quot;map_b746e012a32c6d0ada40fd0939d22c20&quot; &gt;&lt;/div&gt;\n",
       "        \n",
       "&lt;/body&gt;\n",
       "&lt;script&gt;\n",
       "    \n",
       "    \n",
       "            var map_b746e012a32c6d0ada40fd0939d22c20 = L.map(\n",
       "                &quot;map_b746e012a32c6d0ada40fd0939d22c20&quot;,\n",
       "                {\n",
       "                    center: [51.672364724999994, 8.356668034143258],\n",
       "                    crs: L.CRS.EPSG3857,\n",
       "                    zoom: 14,\n",
       "                    zoomControl: true,\n",
       "                    preferCanvas: false,\n",
       "                }\n",
       "            );\n",
       "\n",
       "            \n",
       "\n",
       "        \n",
       "    \n",
       "            var tile_layer_4dd7a74d1a387cc569ba7cc2cb35fe4f = L.tileLayer(\n",
       "                &quot;https://tile.openstreetmap.org/{z}/{x}/{y}.png&quot;,\n",
       "                {&quot;attribution&quot;: &quot;\\u0026copy; \\u003ca href=\\&quot;https://www.openstreetmap.org/copyright\\&quot;\\u003eOpenStreetMap\\u003c/a\\u003e contributors&quot;, &quot;detectRetina&quot;: false, &quot;maxNativeZoom&quot;: 19, &quot;maxZoom&quot;: 19, &quot;minZoom&quot;: 0, &quot;noWrap&quot;: false, &quot;opacity&quot;: 1, &quot;subdomains&quot;: &quot;abc&quot;, &quot;tms&quot;: false}\n",
       "            );\n",
       "        \n",
       "    \n",
       "            tile_layer_4dd7a74d1a387cc569ba7cc2cb35fe4f.addTo(map_b746e012a32c6d0ada40fd0939d22c20);\n",
       "        \n",
       "    \n",
       "            var marker_476dc47c6386981e805fd863459bcdb5 = L.marker(\n",
       "                [51.6708806, 8.3487947],\n",
       "                {}\n",
       "            ).addTo(map_b746e012a32c6d0ada40fd0939d22c20);\n",
       "        \n",
       "    \n",
       "        var popup_02feb4f8078b5b8e146a89704119a6b2 = L.popup({&quot;maxWidth&quot;: &quot;100%&quot;});\n",
       "\n",
       "        \n",
       "            \n",
       "                var html_a76171c4401532f615bebaf5e10ad57d = $(`&lt;div id=&quot;html_a76171c4401532f615bebaf5e10ad57d&quot; style=&quot;width: 100.0%; height: 100.0%;&quot;&gt;Start&lt;/div&gt;`)[0];\n",
       "                popup_02feb4f8078b5b8e146a89704119a6b2.setContent(html_a76171c4401532f615bebaf5e10ad57d);\n",
       "            \n",
       "        \n",
       "\n",
       "        marker_476dc47c6386981e805fd863459bcdb5.bindPopup(popup_02feb4f8078b5b8e146a89704119a6b2)\n",
       "        ;\n",
       "\n",
       "        \n",
       "    \n",
       "    \n",
       "            var marker_1718f15abf42f6f0b25d9ff1b26782d3 = L.marker(\n",
       "                [51.67384885, 8.364541368286515],\n",
       "                {}\n",
       "            ).addTo(map_b746e012a32c6d0ada40fd0939d22c20);\n",
       "        \n",
       "    \n",
       "        var popup_3a655f2bae48715adc7280dea88f51a6 = L.popup({&quot;maxWidth&quot;: &quot;100%&quot;});\n",
       "\n",
       "        \n",
       "            \n",
       "                var html_8fed59bf29b0edacca2392e6f8786d3e = $(`&lt;div id=&quot;html_8fed59bf29b0edacca2392e6f8786d3e&quot; style=&quot;width: 100.0%; height: 100.0%;&quot;&gt;End&lt;/div&gt;`)[0];\n",
       "                popup_3a655f2bae48715adc7280dea88f51a6.setContent(html_8fed59bf29b0edacca2392e6f8786d3e);\n",
       "            \n",
       "        \n",
       "\n",
       "        marker_1718f15abf42f6f0b25d9ff1b26782d3.bindPopup(popup_3a655f2bae48715adc7280dea88f51a6)\n",
       "        ;\n",
       "\n",
       "        \n",
       "    \n",
       "    \n",
       "            var marker_0aa03bb887b445c2487b71a93743efba = L.marker(\n",
       "                [51.6708806, 8.3487947],\n",
       "                {}\n",
       "            ).addTo(map_b746e012a32c6d0ada40fd0939d22c20);\n",
       "        \n",
       "    \n",
       "        var popup_38c458ad068905d0de4fe7d50a52f8d5 = L.popup({&quot;maxWidth&quot;: &quot;100%&quot;});\n",
       "\n",
       "        \n",
       "            \n",
       "                var html_894c171786ae1ab41f6809a76fb180de = $(`&lt;div id=&quot;html_894c171786ae1ab41f6809a76fb180de&quot; style=&quot;width: 100.0%; height: 100.0%;&quot;&gt;Start&lt;/div&gt;`)[0];\n",
       "                popup_38c458ad068905d0de4fe7d50a52f8d5.setContent(html_894c171786ae1ab41f6809a76fb180de);\n",
       "            \n",
       "        \n",
       "\n",
       "        marker_0aa03bb887b445c2487b71a93743efba.bindPopup(popup_38c458ad068905d0de4fe7d50a52f8d5)\n",
       "        ;\n",
       "\n",
       "        \n",
       "    \n",
       "    \n",
       "            var marker_c2439e68416410bfcc8c66c8c0fa0627 = L.marker(\n",
       "                [51.67384885, 8.364541368286515],\n",
       "                {}\n",
       "            ).addTo(map_b746e012a32c6d0ada40fd0939d22c20);\n",
       "        \n",
       "    \n",
       "        var popup_2b42c4e1742a8db37c64af38bf7db302 = L.popup({&quot;maxWidth&quot;: &quot;100%&quot;});\n",
       "\n",
       "        \n",
       "            \n",
       "                var html_9886b6ef523db6b690521a7075e8f0d0 = $(`&lt;div id=&quot;html_9886b6ef523db6b690521a7075e8f0d0&quot; style=&quot;width: 100.0%; height: 100.0%;&quot;&gt;End&lt;/div&gt;`)[0];\n",
       "                popup_2b42c4e1742a8db37c64af38bf7db302.setContent(html_9886b6ef523db6b690521a7075e8f0d0);\n",
       "            \n",
       "        \n",
       "\n",
       "        marker_c2439e68416410bfcc8c66c8c0fa0627.bindPopup(popup_2b42c4e1742a8db37c64af38bf7db302)\n",
       "        ;\n",
       "\n",
       "        \n",
       "    \n",
       "    \n",
       "            var poly_line_4cafcdf8df8f908ddd52a8857c105509 = L.polyline(\n",
       "                [[51.671043, 8.348457], [51.671163, 8.348572], [51.671203, 8.348645], [51.671232, 8.348662], [51.671208, 8.348962], [51.671191, 8.349338], [51.671229, 8.349531], [51.671203, 8.349968], [51.671203, 8.350276], [51.671204, 8.350344], [51.671209, 8.35048], [51.671241, 8.350927], [51.67128, 8.351199], [51.671529, 8.352488], [51.671639, 8.353087], [51.671751, 8.353728], [51.671855, 8.35429], [51.671862, 8.354326], [51.671879, 8.354418], [51.671982, 8.355004], [51.67207, 8.355559], [51.672096, 8.356056], [51.672075, 8.356801], [51.672065, 8.357147], [51.672053, 8.357702], [51.672049, 8.35808], [51.672053, 8.358691], [51.672071, 8.359299], [51.672072, 8.359312], [51.67211, 8.35988], [51.672156, 8.360396], [51.672273, 8.361518], [51.672314, 8.362143], [51.672317, 8.362194], [51.672331, 8.362831], [51.672312, 8.363495], [51.672297, 8.363765], [51.672252, 8.364149], [51.672146, 8.364752], [51.672092, 8.364817], [51.672061, 8.364969], [51.672099, 8.365116], [51.672146, 8.365169], [51.672203, 8.365187], [51.672265, 8.365162], [51.672313, 8.365097], [51.672341, 8.364952], [51.672381, 8.364876], [51.672475, 8.364786], [51.672599, 8.364649], [51.672759, 8.36459], [51.672955, 8.364584], [51.673008, 8.364593], [51.673259, 8.364657], [51.673331, 8.364769], [51.67366, 8.364706], [51.673858, 8.364669]],\n",
       "                {&quot;bubblingMouseEvents&quot;: true, &quot;color&quot;: &quot;blue&quot;, &quot;dashArray&quot;: null, &quot;dashOffset&quot;: null, &quot;fill&quot;: false, &quot;fillColor&quot;: &quot;blue&quot;, &quot;fillOpacity&quot;: 0.2, &quot;fillRule&quot;: &quot;evenodd&quot;, &quot;lineCap&quot;: &quot;round&quot;, &quot;lineJoin&quot;: &quot;round&quot;, &quot;noClip&quot;: false, &quot;opacity&quot;: 1, &quot;smoothFactor&quot;: 1.0, &quot;stroke&quot;: true, &quot;weight&quot;: 2.5}\n",
       "            ).addTo(map_b746e012a32c6d0ada40fd0939d22c20);\n",
       "        \n",
       "&lt;/script&gt;\n",
       "&lt;/html&gt;\" style=\"position:absolute;width:100%;height:100%;left:0;top:0;border:none !important;\" allowfullscreen webkitallowfullscreen mozallowfullscreen></iframe></div></div>"
      ],
      "text/plain": [
       "<folium.folium.Map at 0x1e44a69afd0>"
      ]
     },
     "metadata": {},
     "output_type": "display_data"
    }
   ],
   "source": [
    "# Add markers for start and end\n",
    "folium.Marker([location1.latitude, location1.longitude], popup=\"Start\").add_to(my_map)\n",
    "folium.Marker([location2.latitude, location2.longitude], popup=\"End\").add_to(my_map)\n",
    "\n",
    "# Draw the route\n",
    "folium.PolyLine(route_geometry, color=\"blue\", weight=2.5, opacity=1).add_to(my_map)\n",
    "\n",
    "print(f\"Distance: {distance} meters\\nDuration: {duration} seconds\")\n",
    "display(my_map)"
   ]
  }
 ],
 "metadata": {
  "kernelspec": {
   "display_name": "Python 3 (ipykernel)",
   "language": "python",
   "name": "python3"
  },
  "language_info": {
   "codemirror_mode": {
    "name": "ipython",
    "version": 3
   },
   "file_extension": ".py",
   "mimetype": "text/x-python",
   "name": "python",
   "nbconvert_exporter": "python",
   "pygments_lexer": "ipython3",
   "version": "3.7.1"
  }
 },
 "nbformat": 4,
 "nbformat_minor": 5
}

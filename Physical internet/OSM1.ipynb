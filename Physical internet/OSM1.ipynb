{
 "cells": [
  {
   "cell_type": "markdown",
   "id": "f27a781f",
   "metadata": {},
   "source": [
    "# Getting the latitude & longitude"
   ]
  },
  {
   "cell_type": "code",
   "execution_count": 16,
   "id": "d57c808c",
   "metadata": {},
   "outputs": [],
   "source": [
    "from geopy.geocoders import Nominatim"
   ]
  },
  {
   "cell_type": "code",
   "execution_count": 22,
   "id": "f66c9682",
   "metadata": {},
   "outputs": [],
   "source": [
    "geolocator = Nominatim(user_agent=\"my_geocoder\")\n",
    "location1 = geolocator.geocode(\"Bahnhofstr. (Hauptbahnhof), 59555 Lippstadt\")\n",
    "location2 = geolocator.geocode(\"Dr.-Arnold-Hueck-Straße 3, 59557 Lippstadt\")"
   ]
  },
  {
   "cell_type": "code",
   "execution_count": 23,
   "id": "607458a4",
   "metadata": {},
   "outputs": [
    {
     "name": "stdout",
     "output_type": "stream",
     "text": [
      "Latitude: 51.6708806\n",
      "Longitude: 8.3487947\n"
     ]
    }
   ],
   "source": [
    "print(\"Latitude:\", location1.latitude)\n",
    "print(\"Longitude:\", location1.longitude)"
   ]
  },
  {
   "cell_type": "code",
   "execution_count": 24,
   "id": "79aa8376",
   "metadata": {},
   "outputs": [
    {
     "name": "stdout",
     "output_type": "stream",
     "text": [
      "Latitude: 51.67384885\n",
      "Longitude: 8.364541368286515\n"
     ]
    }
   ],
   "source": [
    "print(\"Latitude:\", location2.latitude)\n",
    "print(\"Longitude:\", location2.longitude)"
   ]
  },
  {
   "cell_type": "markdown",
   "id": "408021a1",
   "metadata": {},
   "source": [
    "# Travel time & Distance between the locations"
   ]
  },
  {
   "cell_type": "code",
   "execution_count": 32,
   "id": "e63642dd",
   "metadata": {},
   "outputs": [
    {
     "name": "stdout",
     "output_type": "stream",
     "text": [
      "200.2\n",
      "1401.1\n"
     ]
    }
   ],
   "source": [
    "import requests\n",
    "\n",
    "url = \"https://api.openrouteservice.org/v2/directions/driving-car\"\n",
    "params = {\n",
    "    \"api_key\": \"5b3ce3597851110001cf6248f15a51c93d7940b3a89085ac795757b1\",  # Get a free API key from OpenRouteService\n",
    "    \"start\": \"8.3487947,51.6708806\",  # Point A coordinates\n",
    "    \"end\": \"8.364541368286515,51.67384885\",  # Point B coordinates\n",
    "}\n",
    "\n",
    "response = requests.get(url, params=params)\n",
    "data = response.json()\n",
    "\n",
    "print(data['features'][0]['properties']['summary']['duration']) #travel time\n",
    "print(data['features'][0]['properties']['summary']['distance']) #distance in meters"
   ]
  }
 ],
 "metadata": {
  "kernelspec": {
   "display_name": "Python 3 (ipykernel)",
   "language": "python",
   "name": "python3"
  },
  "language_info": {
   "codemirror_mode": {
    "name": "ipython",
    "version": 3
   },
   "file_extension": ".py",
   "mimetype": "text/x-python",
   "name": "python",
   "nbconvert_exporter": "python",
   "pygments_lexer": "ipython3",
   "version": "3.7.1"
  }
 },
 "nbformat": 4,
 "nbformat_minor": 5
}

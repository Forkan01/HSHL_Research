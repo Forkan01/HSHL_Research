{
 "cells": [
  {
   "cell_type": "markdown",
   "id": "2c9d863d",
   "metadata": {},
   "source": [
    "# Geocoding (Finding Coordinates):"
   ]
  },
  {
   "cell_type": "code",
   "execution_count": 16,
   "id": "c84a675b",
   "metadata": {},
   "outputs": [],
   "source": [
    "from geopy.geocoders import Nominatim   #OpenStreetMap data to find the geographic coordinates"
   ]
  },
  {
   "cell_type": "code",
   "execution_count": 22,
   "id": "681c64f1",
   "metadata": {},
   "outputs": [],
   "source": [
    "geolocator = Nominatim(user_agent=\"my_geocoder\")\n",
    "location1 = geolocator.geocode(\"Bahnhofstr. (Hauptbahnhof), 59555 Lippstadt\")\n",
    "location2 = geolocator.geocode(\"Dr.-Arnold-Hueck-Straße 3, 59557 Lippstadt\")"
   ]
  },
  {
   "cell_type": "code",
   "execution_count": 23,
   "id": "20106090",
   "metadata": {},
   "outputs": [
    {
     "name": "stdout",
     "output_type": "stream",
     "text": [
      "Latitude: 51.6708806\n",
      "Longitude: 8.3487947\n"
     ]
    }
   ],
   "source": [
    "print(\"Latitude:\", location1.latitude)\n",
    "print(\"Longitude:\", location1.longitude)"
   ]
  },
  {
   "cell_type": "code",
   "execution_count": 24,
   "id": "c03f728c",
   "metadata": {},
   "outputs": [
    {
     "name": "stdout",
     "output_type": "stream",
     "text": [
      "Latitude: 51.67384885\n",
      "Longitude: 8.364541368286515\n"
     ]
    }
   ],
   "source": [
    "print(\"Latitude:\", location2.latitude)\n",
    "print(\"Longitude:\", location2.longitude)"
   ]
  },
  {
   "cell_type": "markdown",
   "id": "bbf0ee70",
   "metadata": {},
   "source": [
    "# Routing (Shortest Path-Duration & Distance):"
   ]
  },
  {
   "cell_type": "code",
   "execution_count": 109,
   "id": "aed288dc",
   "metadata": {},
   "outputs": [
    {
     "name": "stdout",
     "output_type": "stream",
     "text": [
      "200.2\n",
      "1401.1\n"
     ]
    }
   ],
   "source": [
    "import requests\n",
    "\n",
    "url = \"https://api.openrouteservice.org/v2/directions/driving-car\"   #Directions API\n",
    "params = {                                                           #This dictionary contains the parameters for the API request\n",
    "    \"api_key\": \"5b3ce3597851110001cf6248f15a51c93d7940b3a89085ac795757b1\",  #API key from OpenRouteService\n",
    "    \"start\": \"8.3487947,51.6708806\",          # Point A coordinates\n",
    "    \"end\": \"8.364541368286515,51.67384885\",   # Point B coordinates\n",
    "}\n",
    "\n",
    "response = requests.get(url, params=params)   #Sends a GET request\n",
    "data = response.json()                        #JSON response from the API\n",
    "\n",
    "Duration = data['features'][0]['properties']['summary']['duration']\n",
    "Distance = data['features'][0]['properties']['summary']['distance']\n",
    "print(duration) #travel time\n",
    "print(distance) #distance in meters"
   ]
  },
  {
   "cell_type": "markdown",
   "id": "61c0bc47",
   "metadata": {},
   "source": [
    "# Map Visualization:"
   ]
  },
  {
   "cell_type": "code",
   "execution_count": 70,
   "id": "b49b5d20",
   "metadata": {},
   "outputs": [],
   "source": [
    "import polyline\n",
    "import folium\n",
    "from IPython.display import display"
   ]
  },
  {
   "cell_type": "code",
   "execution_count": 88,
   "id": "03b7b64e",
   "metadata": {},
   "outputs": [],
   "source": [
    "# Get and decode route geometry\n",
    "geometry = data['features'][0]['geometry']['coordinates']\n",
    "route_geometry = [(coord[1], coord[0]) for coord in geometry]  # Reverse coordinates for Folium"
   ]
  },
  {
   "cell_type": "code",
   "execution_count": 110,
   "id": "78d9e727",
   "metadata": {
    "scrolled": true
   },
   "outputs": [
    {
     "name": "stdout",
     "output_type": "stream",
     "text": [
      "[[8.348457, 51.671043], [8.348572, 51.671163], [8.348645, 51.671203], [8.348662, 51.671232], [8.348962, 51.671208], [8.349338, 51.671191], [8.349531, 51.671229], [8.349968, 51.671203], [8.350276, 51.671203], [8.350344, 51.671204], [8.35048, 51.671209], [8.350927, 51.671241], [8.351199, 51.67128], [8.352488, 51.671529], [8.353087, 51.671639], [8.353728, 51.671751], [8.35429, 51.671855], [8.354326, 51.671862], [8.354418, 51.671879], [8.355004, 51.671982], [8.355559, 51.67207], [8.356056, 51.672096], [8.356801, 51.672075], [8.357147, 51.672065], [8.357702, 51.672053], [8.35808, 51.672049], [8.358691, 51.672053], [8.359299, 51.672071], [8.359312, 51.672072], [8.35988, 51.67211], [8.360396, 51.672156], [8.361518, 51.672273], [8.362143, 51.672314], [8.362194, 51.672317], [8.362831, 51.672331], [8.363495, 51.672312], [8.363765, 51.672297], [8.364149, 51.672252], [8.364752, 51.672146], [8.364817, 51.672092], [8.364969, 51.672061], [8.365116, 51.672099], [8.365169, 51.672146], [8.365187, 51.672203], [8.365162, 51.672265], [8.365097, 51.672313], [8.364952, 51.672341], [8.364876, 51.672381], [8.364786, 51.672475], [8.364649, 51.672599], [8.36459, 51.672759], [8.364584, 51.672955], [8.364593, 51.673008], [8.364657, 51.673259], [8.364769, 51.673331], [8.364706, 51.67366], [8.364669, 51.673858]]\n"
     ]
    }
   ],
   "source": [
    "print(geometry)"
   ]
  },
  {
   "cell_type": "code",
   "execution_count": 119,
   "id": "794b6ceb",
   "metadata": {},
   "outputs": [],
   "source": [
    "# Create the map centered on the route by averaging..\n",
    "map_center = [(location1.latitude + location2.latitude) / 2,\n",
    "              (location1.longitude + location2.longitude) / 2]\n",
    "my_map = folium.Map(location=map_center, zoom_start=15)"
   ]
  },
  {
   "cell_type": "code",
   "execution_count": 120,
   "id": "2f5fa8e6",
   "metadata": {},
   "outputs": [
    {
     "name": "stdout",
     "output_type": "stream",
     "text": [
      "Distance: 1401.1 meters\n",
      "Duration: 200.2 seconds\n"
     ]
    },
    {
     "data": {
      "text/html": [
       "<div style=\"width:100%;\"><div style=\"position:relative;width:100%;height:0;padding-bottom:60%;\"><span style=\"color:#565656\">Make this Notebook Trusted to load map: File -> Trust Notebook</span><iframe srcdoc=\"&lt;!DOCTYPE html&gt;\n",
       "&lt;html&gt;\n",
       "&lt;head&gt;\n",
       "    \n",
       "    &lt;meta http-equiv=&quot;content-type&quot; content=&quot;text/html; charset=UTF-8&quot; /&gt;\n",
       "    \n",
       "        &lt;script&gt;\n",
       "            L_NO_TOUCH = false;\n",
       "            L_DISABLE_3D = false;\n",
       "        &lt;/script&gt;\n",
       "    \n",
       "    &lt;style&gt;html, body {width: 100%;height: 100%;margin: 0;padding: 0;}&lt;/style&gt;\n",
       "    &lt;style&gt;#map {position:absolute;top:0;bottom:0;right:0;left:0;}&lt;/style&gt;\n",
       "    &lt;script src=&quot;https://cdn.jsdelivr.net/npm/leaflet@1.9.3/dist/leaflet.js&quot;&gt;&lt;/script&gt;\n",
       "    &lt;script src=&quot;https://code.jquery.com/jquery-3.7.1.min.js&quot;&gt;&lt;/script&gt;\n",
       "    &lt;script src=&quot;https://cdn.jsdelivr.net/npm/bootstrap@5.2.2/dist/js/bootstrap.bundle.min.js&quot;&gt;&lt;/script&gt;\n",
       "    &lt;script src=&quot;https://cdnjs.cloudflare.com/ajax/libs/Leaflet.awesome-markers/2.0.2/leaflet.awesome-markers.js&quot;&gt;&lt;/script&gt;\n",
       "    &lt;link rel=&quot;stylesheet&quot; href=&quot;https://cdn.jsdelivr.net/npm/leaflet@1.9.3/dist/leaflet.css&quot;/&gt;\n",
       "    &lt;link rel=&quot;stylesheet&quot; href=&quot;https://cdn.jsdelivr.net/npm/bootstrap@5.2.2/dist/css/bootstrap.min.css&quot;/&gt;\n",
       "    &lt;link rel=&quot;stylesheet&quot; href=&quot;https://netdna.bootstrapcdn.com/bootstrap/3.0.0/css/bootstrap.min.css&quot;/&gt;\n",
       "    &lt;link rel=&quot;stylesheet&quot; href=&quot;https://cdn.jsdelivr.net/npm/@fortawesome/fontawesome-free@6.2.0/css/all.min.css&quot;/&gt;\n",
       "    &lt;link rel=&quot;stylesheet&quot; href=&quot;https://cdnjs.cloudflare.com/ajax/libs/Leaflet.awesome-markers/2.0.2/leaflet.awesome-markers.css&quot;/&gt;\n",
       "    &lt;link rel=&quot;stylesheet&quot; href=&quot;https://cdn.jsdelivr.net/gh/python-visualization/folium/folium/templates/leaflet.awesome.rotate.min.css&quot;/&gt;\n",
       "    \n",
       "            &lt;meta name=&quot;viewport&quot; content=&quot;width=device-width,\n",
       "                initial-scale=1.0, maximum-scale=1.0, user-scalable=no&quot; /&gt;\n",
       "            &lt;style&gt;\n",
       "                #map_cd2fcb5e33940719969078e24f8ed980 {\n",
       "                    position: relative;\n",
       "                    width: 100.0%;\n",
       "                    height: 100.0%;\n",
       "                    left: 0.0%;\n",
       "                    top: 0.0%;\n",
       "                }\n",
       "                .leaflet-container { font-size: 1rem; }\n",
       "            &lt;/style&gt;\n",
       "        \n",
       "&lt;/head&gt;\n",
       "&lt;body&gt;\n",
       "    \n",
       "    \n",
       "            &lt;div class=&quot;folium-map&quot; id=&quot;map_cd2fcb5e33940719969078e24f8ed980&quot; &gt;&lt;/div&gt;\n",
       "        \n",
       "&lt;/body&gt;\n",
       "&lt;script&gt;\n",
       "    \n",
       "    \n",
       "            var map_cd2fcb5e33940719969078e24f8ed980 = L.map(\n",
       "                &quot;map_cd2fcb5e33940719969078e24f8ed980&quot;,\n",
       "                {\n",
       "                    center: [51.672364724999994, 8.356668034143258],\n",
       "                    crs: L.CRS.EPSG3857,\n",
       "                    zoom: 15,\n",
       "                    zoomControl: true,\n",
       "                    preferCanvas: false,\n",
       "                }\n",
       "            );\n",
       "\n",
       "            \n",
       "\n",
       "        \n",
       "    \n",
       "            var tile_layer_383e77b95e92a9511f32f99b65aeaadd = L.tileLayer(\n",
       "                &quot;https://tile.openstreetmap.org/{z}/{x}/{y}.png&quot;,\n",
       "                {&quot;attribution&quot;: &quot;\\u0026copy; \\u003ca href=\\&quot;https://www.openstreetmap.org/copyright\\&quot;\\u003eOpenStreetMap\\u003c/a\\u003e contributors&quot;, &quot;detectRetina&quot;: false, &quot;maxNativeZoom&quot;: 19, &quot;maxZoom&quot;: 19, &quot;minZoom&quot;: 0, &quot;noWrap&quot;: false, &quot;opacity&quot;: 1, &quot;subdomains&quot;: &quot;abc&quot;, &quot;tms&quot;: false}\n",
       "            );\n",
       "        \n",
       "    \n",
       "            tile_layer_383e77b95e92a9511f32f99b65aeaadd.addTo(map_cd2fcb5e33940719969078e24f8ed980);\n",
       "        \n",
       "    \n",
       "            var marker_4d8fef6ed34d061d8490b621a7144b85 = L.marker(\n",
       "                [51.6708806, 8.3487947],\n",
       "                {}\n",
       "            ).addTo(map_cd2fcb5e33940719969078e24f8ed980);\n",
       "        \n",
       "    \n",
       "        var popup_e37bb27823f7e971da524a72b48a0f79 = L.popup({&quot;maxWidth&quot;: &quot;100%&quot;});\n",
       "\n",
       "        \n",
       "            \n",
       "                var html_4722ac8923c0aacdd198ac3799847e04 = $(`&lt;div id=&quot;html_4722ac8923c0aacdd198ac3799847e04&quot; style=&quot;width: 100.0%; height: 100.0%;&quot;&gt;Start&lt;/div&gt;`)[0];\n",
       "                popup_e37bb27823f7e971da524a72b48a0f79.setContent(html_4722ac8923c0aacdd198ac3799847e04);\n",
       "            \n",
       "        \n",
       "\n",
       "        marker_4d8fef6ed34d061d8490b621a7144b85.bindPopup(popup_e37bb27823f7e971da524a72b48a0f79)\n",
       "        ;\n",
       "\n",
       "        \n",
       "    \n",
       "    \n",
       "            var marker_b04cffa99b59ae2426be5d381933e9f2 = L.marker(\n",
       "                [51.67384885, 8.364541368286515],\n",
       "                {}\n",
       "            ).addTo(map_cd2fcb5e33940719969078e24f8ed980);\n",
       "        \n",
       "    \n",
       "        var popup_25ad2318ec2d93e4db163deca2b90e47 = L.popup({&quot;maxWidth&quot;: &quot;100%&quot;});\n",
       "\n",
       "        \n",
       "            \n",
       "                var html_4701c684cf4bdd605fb7b8cb0f70faf7 = $(`&lt;div id=&quot;html_4701c684cf4bdd605fb7b8cb0f70faf7&quot; style=&quot;width: 100.0%; height: 100.0%;&quot;&gt;End&lt;/div&gt;`)[0];\n",
       "                popup_25ad2318ec2d93e4db163deca2b90e47.setContent(html_4701c684cf4bdd605fb7b8cb0f70faf7);\n",
       "            \n",
       "        \n",
       "\n",
       "        marker_b04cffa99b59ae2426be5d381933e9f2.bindPopup(popup_25ad2318ec2d93e4db163deca2b90e47)\n",
       "        ;\n",
       "\n",
       "        \n",
       "    \n",
       "    \n",
       "            var poly_line_c9b0d4e4c7bf3b48cf6534ca507f3c9b = L.polyline(\n",
       "                [[51.671043, 8.348457], [51.671163, 8.348572], [51.671203, 8.348645], [51.671232, 8.348662], [51.671208, 8.348962], [51.671191, 8.349338], [51.671229, 8.349531], [51.671203, 8.349968], [51.671203, 8.350276], [51.671204, 8.350344], [51.671209, 8.35048], [51.671241, 8.350927], [51.67128, 8.351199], [51.671529, 8.352488], [51.671639, 8.353087], [51.671751, 8.353728], [51.671855, 8.35429], [51.671862, 8.354326], [51.671879, 8.354418], [51.671982, 8.355004], [51.67207, 8.355559], [51.672096, 8.356056], [51.672075, 8.356801], [51.672065, 8.357147], [51.672053, 8.357702], [51.672049, 8.35808], [51.672053, 8.358691], [51.672071, 8.359299], [51.672072, 8.359312], [51.67211, 8.35988], [51.672156, 8.360396], [51.672273, 8.361518], [51.672314, 8.362143], [51.672317, 8.362194], [51.672331, 8.362831], [51.672312, 8.363495], [51.672297, 8.363765], [51.672252, 8.364149], [51.672146, 8.364752], [51.672092, 8.364817], [51.672061, 8.364969], [51.672099, 8.365116], [51.672146, 8.365169], [51.672203, 8.365187], [51.672265, 8.365162], [51.672313, 8.365097], [51.672341, 8.364952], [51.672381, 8.364876], [51.672475, 8.364786], [51.672599, 8.364649], [51.672759, 8.36459], [51.672955, 8.364584], [51.673008, 8.364593], [51.673259, 8.364657], [51.673331, 8.364769], [51.67366, 8.364706], [51.673858, 8.364669]],\n",
       "                {&quot;bubblingMouseEvents&quot;: true, &quot;color&quot;: &quot;blue&quot;, &quot;dashArray&quot;: null, &quot;dashOffset&quot;: null, &quot;fill&quot;: false, &quot;fillColor&quot;: &quot;blue&quot;, &quot;fillOpacity&quot;: 0.2, &quot;fillRule&quot;: &quot;evenodd&quot;, &quot;lineCap&quot;: &quot;round&quot;, &quot;lineJoin&quot;: &quot;round&quot;, &quot;noClip&quot;: false, &quot;opacity&quot;: 1, &quot;smoothFactor&quot;: 1.0, &quot;stroke&quot;: true, &quot;weight&quot;: 2.5}\n",
       "            ).addTo(map_cd2fcb5e33940719969078e24f8ed980);\n",
       "        \n",
       "&lt;/script&gt;\n",
       "&lt;/html&gt;\" style=\"position:absolute;width:100%;height:100%;left:0;top:0;border:none !important;\" allowfullscreen webkitallowfullscreen mozallowfullscreen></iframe></div></div>"
      ],
      "text/plain": [
       "<folium.folium.Map at 0x1e46a2db400>"
      ]
     },
     "metadata": {},
     "output_type": "display_data"
    }
   ],
   "source": [
    "# Add markers for start and end\n",
    "folium.Marker([location1.latitude, location1.longitude], popup=\"Start\").add_to(my_map)\n",
    "folium.Marker([location2.latitude, location2.longitude], popup=\"End\").add_to(my_map)\n",
    "\n",
    "# Draw the route\n",
    "folium.PolyLine(route_geometry, color=\"blue\", weight=2.5, opacity=1).add_to(my_map)\n",
    "\n",
    "print(f\"Distance: {distance} meters\\nDuration: {duration} seconds\")\n",
    "display(my_map)"
   ]
  }
 ],
 "metadata": {
  "kernelspec": {
   "display_name": "Python 3 (ipykernel)",
   "language": "python",
   "name": "python3"
  },
  "language_info": {
   "codemirror_mode": {
    "name": "ipython",
    "version": 3
   },
   "file_extension": ".py",
   "mimetype": "text/x-python",
   "name": "python",
   "nbconvert_exporter": "python",
   "pygments_lexer": "ipython3",
   "version": "3.7.1"
  }
 },
 "nbformat": 4,
 "nbformat_minor": 5
}
